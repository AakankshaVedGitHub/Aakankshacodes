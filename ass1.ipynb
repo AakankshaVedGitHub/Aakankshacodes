{
 "cells": [
  {
   "cell_type": "code",
   "execution_count": 1,
   "id": "9625c057-78c7-44c8-ba2e-20dd9ec2fe5f",
   "metadata": {},
   "outputs": [
    {
     "name": "stdin",
     "output_type": "stream",
     "text": [
      "enter days:  3667\n"
     ]
    },
    {
     "name": "stdout",
     "output_type": "stream",
     "text": [
      "year:months:days -  10 523 3667\n"
     ]
    }
   ],
   "source": [
    "''' 1) wap to covert specified days into years, weeks and days\n",
    "take user input\n",
    "ignore leap year''';\n",
    "\n",
    "days = int(input('enter days: '))\n",
    "\n",
    "year = days // 365\n",
    "mons = days // 7\n",
    "\n",
    "print('year:months:days - ', year, mons, days)"
   ]
  },
  {
   "cell_type": "code",
   "execution_count": 2,
   "id": "6bd1daba-8dc8-441e-b933-d2646b0e4afe",
   "metadata": {},
   "outputs": [
    {
     "name": "stdin",
     "output_type": "stream",
     "text": [
      "enter basic salary of your employee:  80000\n"
     ]
    },
    {
     "name": "stdout",
     "output_type": "stream",
     "text": [
      "gross salary =  184000.0\n"
     ]
    }
   ],
   "source": [
    "''' 2) wap to input basic salary of an employee and calculate its gross salary according to following\n",
    "bs <= 10000 : HRA = 20%, DA = 80%\n",
    "bs <= 20000 : HRA = 30%, DA = 90%\n",
    "bs <= 20000 : HRA = 30%, DA = 95% ''';\n",
    "\n",
    "b_s = int(input('enter basic salary of your employee: '))\n",
    "\n",
    "if b_s <= 10000:\n",
    "    hra=b_s*0.20\n",
    "    da=b_s*0.80\n",
    "    g_s=b_s+hra+da\n",
    "    print('gross salary = ', g_s)\n",
    "\n",
    "elif b_s <= 20000:\n",
    "    hra=b_s*0.30\n",
    "    da=b_s*0.90\n",
    "    g_s=b_s+hra+da\n",
    "    print('gross salary = ', g_s)\n",
    "\n",
    "elif b_s > 20000:\n",
    "    hra=b_s*0.35\n",
    "    da=b_s*0.95\n",
    "    g_s=b_s+hra+da\n",
    "    print('gross salary = ', g_s)\n",
    "    \n",
    "    "
   ]
  },
  {
   "cell_type": "code",
   "execution_count": 3,
   "id": "acc8ab64-4874-4877-8bcd-46b4d9d7eed0",
   "metadata": {},
   "outputs": [
    {
     "name": "stdin",
     "output_type": "stream",
     "text": [
      "enter unit:  243\n"
     ]
    },
    {
     "name": "stdout",
     "output_type": "stream",
     "text": [
      "bill=  303.75\n",
      "total bill =  303.92\n"
     ]
    }
   ],
   "source": [
    "'''3)''';\n",
    "\n",
    "unit=int(input('enter unit: '))\n",
    "\n",
    "if unit <=50:\n",
    "    amt=unit*0.5\n",
    "    print('bill= ', amt)\n",
    "\n",
    "elif unit <=150 and unit >50:\n",
    "    amt=unit*0.75\n",
    "    print('bill= ', amt)\n",
    "\n",
    "elif unit <=250 and unit >150:\n",
    "    amt=unit*1.25\n",
    "    print('bill= ', amt)\n",
    "\n",
    "elif unit > 250 :\n",
    "    amt=unit*1.50\n",
    "    print('bill= ', amt)\n",
    "\n",
    "t_b = amt + 0.17\n",
    "print('total bill = ', t_b )"
   ]
  },
  {
   "cell_type": "code",
   "execution_count": 4,
   "id": "85e75d73-af98-45c4-9a4b-0db108d81608",
   "metadata": {},
   "outputs": [
    {
     "name": "stdin",
     "output_type": "stream",
     "text": [
      "enter no of rows:  7\n"
     ]
    },
    {
     "name": "stdout",
     "output_type": "stream",
     "text": [
      "\n",
      "1 \n",
      "2 2 \n",
      "3 3 3 \n",
      "4 4 4 4 \n",
      "5 5 5 5 5 \n",
      "6 6 6 6 6 6 \n",
      "7 7 7 7 7 7 7 "
     ]
    }
   ],
   "source": [
    "'''4)\n",
    "wap and print the given pattern\n",
    "1\n",
    "22\n",
    "333\n",
    "4444\n",
    "55555\n",
    "''';\n",
    "\n",
    "row=int(input('enter no of rows: '))\n",
    "\n",
    "for i in range(1, row+1):\n",
    "    print('')\n",
    "    for j in range(i):\n",
    "        print(i, end = ' ')"
   ]
  },
  {
   "cell_type": "code",
   "execution_count": 1,
   "id": "b6e8aec8-de20-45c4-9d10-10241df3240d",
   "metadata": {},
   "outputs": [
    {
     "name": "stdin",
     "output_type": "stream",
     "text": [
      "enter number 657\n"
     ]
    },
    {
     "name": "stdout",
     "output_type": "stream",
     "text": [
      "product: 210\n"
     ]
    }
   ],
   "source": [
    "#5\n",
    "'''wap to calculate product of digits of a number. read value of n from user''';\n",
    "\n",
    "n=int(input('enter number'))\n",
    "mul=1\n",
    "while n>0:\n",
    "    rem=n%10\n",
    "    mul=mul*rem\n",
    "    n=n//10\n",
    "print('product:',mul) "
   ]
  },
  {
   "cell_type": "code",
   "execution_count": 14,
   "id": "dd3cdaca-a761-40ca-95a0-9d45901f4b04",
   "metadata": {},
   "outputs": [],
   "source": [
    "#6\n",
    "'''create list of elements like:x=[45,67,12,'hello',23.45,'world']\n",
    "and perform following operations\n",
    "1.extract only string values from this list\n",
    "2.create a new list with strings in uppercase\n",
    "3.find addition of integer values\n",
    "4.check that value 56 is present in it or not\n",
    "5.print list in reverse order\n",
    "6.delete string hello from it\n",
    "7.insert new value 36 at 5th position in list\n",
    "8.count total number of elements in list now \n",
    "9.extraxt values from 2nd index to 5th index\n",
    "10.append[34,'pune'] to the list\n",
    "11.delete the last element from the list\n",
    "''';\n"
   ]
  },
  {
   "cell_type": "code",
   "execution_count": 3,
   "id": "21500cef-2477-48d4-9a48-f96bfb372015",
   "metadata": {},
   "outputs": [],
   "source": [
    "x=[45,67,12,'hello',23.45,'world']\n"
   ]
  },
  {
   "cell_type": "code",
   "execution_count": 4,
   "id": "e847ce08-3a21-43c5-a1b7-4bd3cc72e354",
   "metadata": {},
   "outputs": [
    {
     "data": {
      "text/plain": [
       "('hello', 'world')"
      ]
     },
     "execution_count": 4,
     "metadata": {},
     "output_type": "execute_result"
    }
   ],
   "source": [
    "#1.extract only string values from this list\n",
    "y=x[3],x[-1]            \n",
    "y\n"
   ]
  },
  {
   "cell_type": "code",
   "execution_count": 5,
   "id": "eb82d49f-955f-4c9b-92d5-e8ba62fb9813",
   "metadata": {},
   "outputs": [
    {
     "data": {
      "text/plain": [
       "['HELLO', 'WORLD']"
      ]
     },
     "execution_count": 5,
     "metadata": {},
     "output_type": "execute_result"
    }
   ],
   "source": [
    "#2.create a new list with strings in uppercase\n",
    "y=[n.upper() for n in y]\n",
    "y\n"
   ]
  },
  {
   "cell_type": "code",
   "execution_count": 6,
   "id": "0e1bf959-9476-43a5-96d2-ebbabeb32aa8",
   "metadata": {},
   "outputs": [
    {
     "data": {
      "text/plain": [
       "False"
      ]
     },
     "execution_count": 6,
     "metadata": {},
     "output_type": "execute_result"
    }
   ],
   "source": [
    "#3.find addition of integer values\n",
    "\n",
    "#4.check that value 56 is present in it or not\n",
    "56 in x"
   ]
  },
  {
   "cell_type": "code",
   "execution_count": 7,
   "id": "afe16afc-53be-47bc-aa80-af61d63a83ca",
   "metadata": {},
   "outputs": [
    {
     "data": {
      "text/plain": [
       "['world', 23.45, 'hello', 12, 67, 45]"
      ]
     },
     "execution_count": 7,
     "metadata": {},
     "output_type": "execute_result"
    }
   ],
   "source": [
    "#5.print list in reverse order\n",
    "x.reverse() \n",
    "x"
   ]
  },
  {
   "cell_type": "code",
   "execution_count": 8,
   "id": "002c7841-ac31-4f29-849e-b14ca0cdfc55",
   "metadata": {},
   "outputs": [
    {
     "data": {
      "text/plain": [
       "['world', 23.45, 12, 67, 45]"
      ]
     },
     "execution_count": 8,
     "metadata": {},
     "output_type": "execute_result"
    }
   ],
   "source": [
    "#6.delete string hello from it\n",
    "x.remove('hello')\n",
    "x\n"
   ]
  },
  {
   "cell_type": "code",
   "execution_count": 9,
   "id": "74e65087-4530-4c9c-af20-fd83dbadf117",
   "metadata": {},
   "outputs": [
    {
     "data": {
      "text/plain": [
       "['world', 23.45, 12, 67, 36, 45]"
      ]
     },
     "execution_count": 9,
     "metadata": {},
     "output_type": "execute_result"
    }
   ],
   "source": [
    "#7.insert new value 36 at 5th position in list\n",
    "x.insert(4,36)               #5thposition ,i.e. 4th index\n",
    "x\n"
   ]
  },
  {
   "cell_type": "code",
   "execution_count": 10,
   "id": "9188e00d-4dfa-4f48-8eb6-6988c6adc838",
   "metadata": {},
   "outputs": [
    {
     "data": {
      "text/plain": [
       "6"
      ]
     },
     "execution_count": 10,
     "metadata": {},
     "output_type": "execute_result"
    }
   ],
   "source": [
    "#8.count total number of elements in list now \n",
    "len(x) "
   ]
  },
  {
   "cell_type": "code",
   "execution_count": 11,
   "id": "45453df9-4b9b-4990-a3d9-c3f447947633",
   "metadata": {},
   "outputs": [
    {
     "data": {
      "text/plain": [
       "[12, 67, 36]"
      ]
     },
     "execution_count": 11,
     "metadata": {},
     "output_type": "execute_result"
    }
   ],
   "source": [
    "#9.extraxt values from 2nd index to 5th index\n",
    "x[2:5] \n"
   ]
  },
  {
   "cell_type": "code",
   "execution_count": 12,
   "id": "5a234c50-0c5b-46e0-8a49-6943109bbe43",
   "metadata": {},
   "outputs": [
    {
     "data": {
      "text/plain": [
       "['world', 23.45, 12, 67, 36, 45, [34, 'pune']]"
      ]
     },
     "execution_count": 12,
     "metadata": {},
     "output_type": "execute_result"
    }
   ],
   "source": [
    "\n",
    "#10.append[34,'pune'] to the list\n",
    "x.append([34,'pune'])\n",
    "x\n"
   ]
  },
  {
   "cell_type": "code",
   "execution_count": 13,
   "id": "44034791-b0e3-4fc6-a9a9-ef3457b4b829",
   "metadata": {},
   "outputs": [
    {
     "data": {
      "text/plain": [
       "['world', 23.45, 12, 67, 36, 45]"
      ]
     },
     "execution_count": 13,
     "metadata": {},
     "output_type": "execute_result"
    }
   ],
   "source": [
    "#11.delete the last element from the list\n",
    "x.pop(-1)\n",
    "x"
   ]
  },
  {
   "cell_type": "code",
   "execution_count": 15,
   "id": "61c44f12-3165-4319-bb74-ee71b6c26623",
   "metadata": {},
   "outputs": [
    {
     "data": {
      "text/plain": [
       "(12.23, 34.45, 76.32, 56.87, 23.76)"
      ]
     },
     "execution_count": 15,
     "metadata": {},
     "output_type": "execute_result"
    }
   ],
   "source": [
    "#7\n",
    "'''create a tuple of elements with 5 float values in it and\n",
    "perform following operations:\n",
    "1.print data in sorted manner\n",
    "2.check to see that element 50 is present in it\n",
    "3.convert this tuple in set''';\n",
    "\n",
    "t=(12.23,34.45,76.32,56.87,23.76)\n",
    "t"
   ]
  },
  {
   "cell_type": "code",
   "execution_count": 16,
   "id": "b2406df9-11cb-4e4a-9f04-b7cf08d9f9a7",
   "metadata": {},
   "outputs": [
    {
     "data": {
      "text/plain": [
       "[12.23, 23.76, 34.45, 56.87, 76.32]"
      ]
     },
     "execution_count": 16,
     "metadata": {},
     "output_type": "execute_result"
    }
   ],
   "source": [
    "#1.print data in sorted manner\n",
    "sorted(t)"
   ]
  },
  {
   "cell_type": "code",
   "execution_count": 17,
   "id": "c762cc7e-2d60-4cee-bdab-c1b7eb45f399",
   "metadata": {},
   "outputs": [
    {
     "data": {
      "text/plain": [
       "False"
      ]
     },
     "execution_count": 17,
     "metadata": {},
     "output_type": "execute_result"
    }
   ],
   "source": [
    "#2.check to see that element 50 is present in it\n",
    "50 in t"
   ]
  },
  {
   "cell_type": "code",
   "execution_count": 18,
   "id": "d6a78728-79a1-4a6b-8c55-e57e12d87e60",
   "metadata": {},
   "outputs": [
    {
     "data": {
      "text/plain": [
       "[12.23, 34.45, 76.32, 56.87, 23.76]"
      ]
     },
     "execution_count": 18,
     "metadata": {},
     "output_type": "execute_result"
    }
   ],
   "source": [
    "#3.convert this tuple in set\n",
    "m=list(t)\n",
    "m"
   ]
  },
  {
   "cell_type": "code",
   "execution_count": 19,
   "id": "0ec2f873-1e3f-4a70-93c2-048cfeb0f40c",
   "metadata": {},
   "outputs": [
    {
     "data": {
      "text/plain": [
       "{'a': 'apple', 'b': 'ball', 'c': 'cat', 'd': 'doll', 'k': 'king'}"
      ]
     },
     "execution_count": 19,
     "metadata": {},
     "output_type": "execute_result"
    }
   ],
   "source": [
    "#8\n",
    "'''create a dictionary of elements :{'a':'apple','b':'ball','c':'cat',\n",
    "'d':'doll','k':'king'} and perform following operations:\n",
    "1.access data at key 'k'\n",
    "2.add a new value 'z':'zebra'\n",
    "3.replace contents of 'd' as 'dog'\n",
    "4.print all values from dictionary\n",
    "5.find length of this dictionary''';\n",
    "\n",
    "d={'a':'apple','b':'ball','c':'cat','d':'doll','k':'king'}\n",
    "d"
   ]
  },
  {
   "cell_type": "code",
   "execution_count": 20,
   "id": "076ae885-a92d-4231-9953-3ae0507a3112",
   "metadata": {},
   "outputs": [
    {
     "data": {
      "text/plain": [
       "'king'"
      ]
     },
     "execution_count": 20,
     "metadata": {},
     "output_type": "execute_result"
    }
   ],
   "source": [
    "#1.\n",
    "d['k']"
   ]
  },
  {
   "cell_type": "code",
   "execution_count": 21,
   "id": "9c2ebdf0-bae3-4057-ae8c-5b298aa4c1de",
   "metadata": {},
   "outputs": [
    {
     "data": {
      "text/plain": [
       "{'a': 'apple', 'b': 'ball', 'c': 'cat', 'd': 'doll', 'k': 'king', 'z': 'zebra'}"
      ]
     },
     "execution_count": 21,
     "metadata": {},
     "output_type": "execute_result"
    }
   ],
   "source": [
    "#2.\n",
    "d['z']='zebra'\n",
    "d"
   ]
  },
  {
   "cell_type": "code",
   "execution_count": 22,
   "id": "c7a5cab7-4e88-4e0f-b476-7ab02376bdf9",
   "metadata": {},
   "outputs": [
    {
     "data": {
      "text/plain": [
       "{'a': 'apple', 'b': 'ball', 'c': 'cat', 'd': 'dog', 'k': 'king', 'z': 'zebra'}"
      ]
     },
     "execution_count": 22,
     "metadata": {},
     "output_type": "execute_result"
    }
   ],
   "source": [
    "#3.\n",
    "d['d']='dog'\n",
    "d"
   ]
  },
  {
   "cell_type": "code",
   "execution_count": 23,
   "id": "79002db7-915c-45dc-a604-e36fdbf4c861",
   "metadata": {},
   "outputs": [
    {
     "data": {
      "text/plain": [
       "dict_values(['apple', 'ball', 'cat', 'dog', 'king', 'zebra'])"
      ]
     },
     "execution_count": 23,
     "metadata": {},
     "output_type": "execute_result"
    }
   ],
   "source": [
    "#4.\n",
    "d.values()"
   ]
  },
  {
   "cell_type": "code",
   "execution_count": 24,
   "id": "b59fc47e-9d4a-4174-b0cb-55e8e83ee38d",
   "metadata": {},
   "outputs": [
    {
     "data": {
      "text/plain": [
       "6"
      ]
     },
     "execution_count": 24,
     "metadata": {},
     "output_type": "execute_result"
    }
   ],
   "source": [
    "#5.\n",
    "len(d)"
   ]
  },
  {
   "cell_type": "code",
   "execution_count": 25,
   "id": "b1833dcb-b8b0-4bd9-9a1a-c675407733e6",
   "metadata": {},
   "outputs": [
    {
     "name": "stdout",
     "output_type": "stream",
     "text": [
      "second largest element is: 45\n"
     ]
    }
   ],
   "source": [
    "#9\n",
    "'''wap to find second largest element in list''';\n",
    "\n",
    "l=[12,23,34,45,56]\n",
    "sorted(l)\n",
    "print('second largest element is:',l[-2])"
   ]
  },
  {
   "cell_type": "code",
   "execution_count": 26,
   "id": "2863df8e-7ed5-4f02-a12a-b9b0f88aafab",
   "metadata": {},
   "outputs": [
    {
     "name": "stdout",
     "output_type": "stream",
     "text": [
      "metals from first list= ['silver', 'gold', 'copper', 'iron', 'zinc']\n",
      "metals from second list= ['silver', 'gold', 'iron', 'zinc']\n"
     ]
    }
   ],
   "source": [
    "#10\n",
    "'''this is list of some metallic elements:\n",
    "metals=['silver','gold'....]\n",
    "make a new list that is almost identical to metals list :\n",
    "the new contains same items,in same order,except that it does\n",
    "NOT contain the item 'copper'. ''';\n",
    "\n",
    "metals=['silver','gold','copper','iron','zinc']\n",
    "print('metals from first list=',metals)\n",
    "metals.remove('copper')\n",
    "metals2=metals.copy()\n",
    "print('metals from second list=',metals2)"
   ]
  },
  {
   "cell_type": "code",
   "execution_count": null,
   "id": "620e23e7-d417-461e-96b9-53a21389e8ca",
   "metadata": {},
   "outputs": [],
   "source": []
  }
 ],
 "metadata": {
  "kernelspec": {
   "display_name": "Python 3 (ipykernel)",
   "language": "python",
   "name": "python3"
  },
  "language_info": {
   "codemirror_mode": {
    "name": "ipython",
    "version": 3
   },
   "file_extension": ".py",
   "mimetype": "text/x-python",
   "name": "python",
   "nbconvert_exporter": "python",
   "pygments_lexer": "ipython3",
   "version": "3.11.7"
  }
 },
 "nbformat": 4,
 "nbformat_minor": 5
}
