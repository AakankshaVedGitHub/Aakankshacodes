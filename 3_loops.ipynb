{
 "cells": [
  {
   "cell_type": "code",
   "execution_count": 1,
   "id": "68d830dd-f5b4-4057-9107-8257f86d2129",
   "metadata": {},
   "outputs": [
    {
     "name": "stdout",
     "output_type": "stream",
     "text": [
      "Akku\n",
      "Akku\n",
      "Akku\n",
      "Akku\n",
      "Akku\n"
     ]
    }
   ],
   "source": [
    "count = 1\n",
    "\n",
    "while count <= 5:\n",
    "    print('Akku')\n",
    "    count = count + 1"
   ]
  },
  {
   "cell_type": "code",
   "execution_count": 2,
   "id": "66e96358-4f76-4277-84be-fb0e183dfc8f",
   "metadata": {},
   "outputs": [
    {
     "name": "stdout",
     "output_type": "stream",
     "text": [
      "5 6 7 8 9 10 11 12 13 14 15 yooo!!\n"
     ]
    }
   ],
   "source": [
    "# print numbers from 5 to 15\n",
    "\n",
    "count = 5\n",
    "\n",
    "while count <= 15:\n",
    "    print(count, end = ' ')\n",
    "    count += 1\n",
    "    \n",
    "print('yooo!!')"
   ]
  },
  {
   "cell_type": "code",
   "execution_count": 3,
   "id": "f5a41960-e862-41a0-9ffa-a61582aa55a3",
   "metadata": {},
   "outputs": [
    {
     "name": "stdout",
     "output_type": "stream",
     "text": [
      "16\n"
     ]
    }
   ],
   "source": [
    "print(count)"
   ]
  },
  {
   "cell_type": "code",
   "execution_count": 4,
   "id": "52ca3cf1-1ecd-4ccd-9dba-bdd339d32a6d",
   "metadata": {},
   "outputs": [
    {
     "name": "stdout",
     "output_type": "stream",
     "text": [
      "Addition: 55\n"
     ]
    }
   ],
   "source": [
    "# print the addition of numbers from 1 to 10\n",
    "\n",
    "count = 1\n",
    "add = 0\n",
    "\n",
    "while count <= 10:\n",
    "    add = add + count\n",
    "    count += 1\n",
    "    \n",
    "print('Addition:', add)"
   ]
  },
  {
   "cell_type": "code",
   "execution_count": 5,
   "id": "c36c71b2-15ae-4244-9851-c0d9b3cc0ada",
   "metadata": {},
   "outputs": [
    {
     "name": "stdout",
     "output_type": "stream",
     "text": [
      "11\n"
     ]
    }
   ],
   "source": [
    "print(count)"
   ]
  },
  {
   "cell_type": "code",
   "execution_count": 6,
   "id": "01edd6f7-18e0-44a4-b1b9-ee03ee82b8b8",
   "metadata": {},
   "outputs": [
    {
     "name": "stdout",
     "output_type": "stream",
     "text": [
      "Addition: 100\n"
     ]
    }
   ],
   "source": [
    "# print the addition of all odd numbers from 1 to 20\n",
    "\n",
    "count = 1\n",
    "add = 0\n",
    "\n",
    "while count <= 20:\n",
    "    add = add + count\n",
    "    count += 2\n",
    "    \n",
    "print('Addition:', add)"
   ]
  },
  {
   "cell_type": "code",
   "execution_count": 7,
   "id": "c135ed11-f30a-4d74-ae5a-72cf1bc38c38",
   "metadata": {},
   "outputs": [
    {
     "name": "stdout",
     "output_type": "stream",
     "text": [
      "Factorial is: 120\n"
     ]
    }
   ],
   "source": [
    "# factorial \n",
    "\n",
    "num = 1\n",
    "\n",
    "fact = 1\n",
    "\n",
    "while num <= 5:\n",
    "    fact = fact * num\n",
    "    num +=1\n",
    "    \n",
    "print('Factorial is:', fact)"
   ]
  },
  {
   "cell_type": "code",
   "execution_count": 8,
   "id": "544efd83-df70-4ffa-93da-e64e5b5fd67e",
   "metadata": {},
   "outputs": [
    {
     "name": "stdin",
     "output_type": "stream",
     "text": [
      "Enter the number  8\n"
     ]
    },
    {
     "name": "stdout",
     "output_type": "stream",
     "text": [
      "Loop ended\n",
      "factorial is: 40320\n"
     ]
    }
   ],
   "source": [
    "num = int(input('Enter the number '))\n",
    "fact = 1\n",
    "\n",
    "while num > 1:\n",
    "    fact = fact * num\n",
    "    num -= 1\n",
    "else:\n",
    "    print('Loop ended')\n",
    "    \n",
    "print('factorial is:', fact)"
   ]
  },
  {
   "cell_type": "code",
   "execution_count": 9,
   "id": "0bce4c31-525b-4f90-9060-9960caff79a4",
   "metadata": {},
   "outputs": [
    {
     "data": {
      "text/plain": [
       "4"
      ]
     },
     "execution_count": 9,
     "metadata": {},
     "output_type": "execute_result"
    }
   ],
   "source": [
    "num = 12345\n",
    "\n",
    "num % 10\n",
    "a = num // 10\n",
    "a % 10"
   ]
  },
  {
   "cell_type": "code",
   "execution_count": 10,
   "id": "768c2c2e-2bb6-4bc9-82ca-0901f34dee55",
   "metadata": {},
   "outputs": [
    {
     "name": "stdin",
     "output_type": "stream",
     "text": [
      "Enter the number 5743\n"
     ]
    },
    {
     "name": "stdout",
     "output_type": "stream",
     "text": [
      "addtion of digits is: 19\n"
     ]
    }
   ],
   "source": [
    "# find the sum of digits in a number\n",
    "\n",
    "num = int(input('Enter the number'))\n",
    "\n",
    "add = 0\n",
    "\n",
    "while num > 0:\n",
    "    rem = num % 10\n",
    "    add = add + rem\n",
    "    num = num // 10\n",
    "\n",
    "print('addtion of digits is:', add)"
   ]
  },
  {
   "cell_type": "code",
   "execution_count": 12,
   "id": "0a4b287d-8f82-4097-be79-71d48d5e014c",
   "metadata": {},
   "outputs": [],
   "source": [
    "#for loop"
   ]
  },
  {
   "cell_type": "code",
   "execution_count": 13,
   "id": "da01ffa2-dac7-4b55-868a-a68531dfb3a3",
   "metadata": {},
   "outputs": [
    {
     "name": "stdout",
     "output_type": "stream",
     "text": [
      "12\n",
      "34\n",
      "45\n",
      "21\n"
     ]
    }
   ],
   "source": [
    "for n in 12, 34, 45, 21:\n",
    "    print(n)"
   ]
  },
  {
   "cell_type": "code",
   "execution_count": 14,
   "id": "7e4df98a-b786-4aa8-8c0b-1ca45542e58a",
   "metadata": {},
   "outputs": [
    {
     "name": "stdout",
     "output_type": "stream",
     "text": [
      "12\n",
      "34\n",
      "45\n",
      "21\n",
      "Adi\n",
      "True\n"
     ]
    }
   ],
   "source": [
    "for n in 12, 34, 45, 21, 'Adi', True:\n",
    "    print(n)"
   ]
  },
  {
   "cell_type": "code",
   "execution_count": 15,
   "id": "a63afa4b-068c-45cb-bd2f-d7bdc841145c",
   "metadata": {},
   "outputs": [
    {
     "name": "stdout",
     "output_type": "stream",
     "text": [
      "6.0\n",
      "17.0\n",
      "22.5\n",
      "10.5\n"
     ]
    }
   ],
   "source": [
    "for n in 12, 34, 45, 21:\n",
    "    print(n/2)\n"
   ]
  },
  {
   "cell_type": "code",
   "execution_count": 16,
   "id": "a5e423f6-280e-476f-a532-5a7b5d658bed",
   "metadata": {},
   "outputs": [],
   "source": [
    "# range function"
   ]
  },
  {
   "cell_type": "code",
   "execution_count": 17,
   "id": "1eb0722f-f53e-4530-952a-3e8a9c6fb936",
   "metadata": {},
   "outputs": [
    {
     "data": {
      "text/plain": [
       "[0, 1, 2, 3, 4]"
      ]
     },
     "execution_count": 17,
     "metadata": {},
     "output_type": "execute_result"
    }
   ],
   "source": [
    "list(range(5))"
   ]
  },
  {
   "cell_type": "code",
   "execution_count": 18,
   "id": "9b612881-8aa7-475b-82f1-09efb22e0172",
   "metadata": {},
   "outputs": [
    {
     "data": {
      "text/plain": [
       "[5, 6, 7, 8, 9, 10, 11, 12, 13, 14, 15, 16, 17, 18, 19]"
      ]
     },
     "execution_count": 18,
     "metadata": {},
     "output_type": "execute_result"
    }
   ],
   "source": [
    "list(range(5, 20))"
   ]
  },
  {
   "cell_type": "code",
   "execution_count": 19,
   "id": "a1df47e2-3b0e-464f-a613-f3dea4690e70",
   "metadata": {},
   "outputs": [
    {
     "data": {
      "text/plain": [
       "[5, 7, 9, 11, 13, 15, 17, 19]"
      ]
     },
     "execution_count": 19,
     "metadata": {},
     "output_type": "execute_result"
    }
   ],
   "source": [
    "list(range(5,20,2))"
   ]
  },
  {
   "cell_type": "code",
   "execution_count": 20,
   "id": "432194a2-405e-46a1-9518-061d9c9582c4",
   "metadata": {},
   "outputs": [],
   "source": [
    "# range(start, end + 1, step)"
   ]
  },
  {
   "cell_type": "code",
   "execution_count": 21,
   "id": "de9fcb9f-8081-400a-8fef-3fe34108d966",
   "metadata": {},
   "outputs": [
    {
     "name": "stdout",
     "output_type": "stream",
     "text": [
      "1 2 3 4 5 6 7 8 9 10 "
     ]
    }
   ],
   "source": [
    "for n in range(1,11):\n",
    "    print(n, end = ' ')"
   ]
  },
  {
   "cell_type": "code",
   "execution_count": 22,
   "id": "d90cf5d3-139d-4509-9fb1-2213faa71415",
   "metadata": {},
   "outputs": [
    {
     "name": "stdout",
     "output_type": "stream",
     "text": [
      "Addition: 100\n"
     ]
    }
   ],
   "source": [
    "# addition of odd numbers from 1 to 20\n",
    "\n",
    "add = 0\n",
    "\n",
    "for n in range(1,21,2):\n",
    "    add = add + n\n",
    "    \n",
    "print('Addition:', add)"
   ]
  },
  {
   "cell_type": "code",
   "execution_count": 23,
   "id": "77e0164e-003f-44a4-9c70-8edf5785e334",
   "metadata": {},
   "outputs": [
    {
     "name": "stdout",
     "output_type": "stream",
     "text": [
      "Akku Akku Akku Akku Akku Akku Akku Akku Akku Akku "
     ]
    }
   ],
   "source": [
    "for n in range(10):\n",
    "    print('Akku', end = ' ')"
   ]
  },
  {
   "cell_type": "code",
   "execution_count": 24,
   "id": "fefc6867-6b94-423d-bd9d-65873f7311cd",
   "metadata": {},
   "outputs": [
    {
     "name": "stdout",
     "output_type": "stream",
     "text": [
      "aaa\n",
      "aaa\n",
      "kkk\n",
      "sss\n",
      "hhh\n",
      "uuu\n"
     ]
    }
   ],
   "source": [
    "for n in 'aakshu':\n",
    "    print(n * 3)"
   ]
  },
  {
   "cell_type": "code",
   "execution_count": 25,
   "id": "e12ee30c-c9c3-4e51-a000-ea71e9521180",
   "metadata": {},
   "outputs": [
    {
     "name": "stdout",
     "output_type": "stream",
     "text": [
      "akku\n",
      "sanu\n"
     ]
    }
   ],
   "source": [
    "for n in 'akku', 'sanu':\n",
    "    print(n)"
   ]
  },
  {
   "cell_type": "code",
   "execution_count": 26,
   "id": "6dbd6608-9428-4d82-becf-e77ae67abd15",
   "metadata": {},
   "outputs": [
    {
     "name": "stdout",
     "output_type": "stream",
     "text": [
      "23\n",
      "45\n",
      "32\n",
      "21\n",
      "67\n",
      "end\n"
     ]
    }
   ],
   "source": [
    "l = [23, 45, 32, 21, 67]\n",
    "\n",
    "for n in l:\n",
    "    print(n)\n",
    "else:\n",
    "    print('end')"
   ]
  },
  {
   "cell_type": "code",
   "execution_count": 27,
   "id": "cf432533-dbae-4ff8-a439-b65059448ed6",
   "metadata": {},
   "outputs": [
    {
     "name": "stdin",
     "output_type": "stream",
     "text": [
      "Enter number  34\n"
     ]
    },
    {
     "name": "stdout",
     "output_type": "stream",
     "text": [
      "Factorial is: 295232799039604140847618609643520000000\n"
     ]
    }
   ],
   "source": [
    "# find factorial of a number\n",
    "\n",
    "num = int(input('Enter number '))\n",
    "fact = 1\n",
    "\n",
    "for n in range(1, num + 1):\n",
    "    fact = fact * n\n",
    "    \n",
    "print('Factorial is:', fact)"
   ]
  },
  {
   "cell_type": "code",
   "execution_count": 28,
   "id": "c918cd5c-eaf0-4070-90c5-5a5cb5c20bd3",
   "metadata": {},
   "outputs": [],
   "source": [
    "#break statement"
   ]
  },
  {
   "cell_type": "code",
   "execution_count": 29,
   "id": "0fcb1fd5-73ef-401e-b913-5786d3779154",
   "metadata": {},
   "outputs": [
    {
     "name": "stdout",
     "output_type": "stream",
     "text": [
      "1\n",
      "2\n",
      "3\n",
      "4\n"
     ]
    }
   ],
   "source": [
    "for n in range(1,10):\n",
    "    if n == 5:\n",
    "        break\n",
    "    print(n)"
   ]
  },
  {
   "cell_type": "code",
   "execution_count": 30,
   "id": "47421d8b-afc9-418e-90f2-49d8aeef1bd6",
   "metadata": {},
   "outputs": [
    {
     "name": "stdout",
     "output_type": "stream",
     "text": [
      "0\n",
      "1\n",
      "2\n",
      "3\n",
      "4\n",
      "5\n"
     ]
    }
   ],
   "source": [
    "count = 0\n",
    "while count < 10:\n",
    "    print(count)\n",
    "    if count == 5:\n",
    "        break\n",
    "    count += 1"
   ]
  },
  {
   "cell_type": "code",
   "execution_count": 31,
   "id": "98ec4c62-7ab0-4dd6-b466-c28158bcf56c",
   "metadata": {},
   "outputs": [],
   "source": [
    "#continue"
   ]
  },
  {
   "cell_type": "code",
   "execution_count": 32,
   "id": "560e2812-b0c6-4ff9-9feb-2d8fabed336d",
   "metadata": {},
   "outputs": [
    {
     "name": "stdout",
     "output_type": "stream",
     "text": [
      "1\n",
      "2\n",
      "3\n",
      "4\n",
      "6\n",
      "7\n",
      "8\n",
      "9\n"
     ]
    }
   ],
   "source": [
    "for n in range(1,10):\n",
    "    if n == 5:\n",
    "        continue\n",
    "    print(n)"
   ]
  },
  {
   "cell_type": "code",
   "execution_count": 33,
   "id": "04cb613c-f766-496f-92e3-b994c3cca538",
   "metadata": {},
   "outputs": [
    {
     "name": "stdout",
     "output_type": "stream",
     "text": [
      "1\n",
      "3\n",
      "5\n",
      "7\n",
      "9\n",
      "11\n"
     ]
    }
   ],
   "source": [
    "# print odd numbers from 1 to 12 using continue statement\n",
    "\n",
    "for i in range(1,13):\n",
    "    if i % 2 == 0:\n",
    "        continue\n",
    "    print(i)"
   ]
  },
  {
   "cell_type": "code",
   "execution_count": 34,
   "id": "056f9824-d2dc-419f-ad96-b78e9514f900",
   "metadata": {},
   "outputs": [],
   "source": [
    "#pass"
   ]
  },
  {
   "cell_type": "code",
   "execution_count": 35,
   "id": "61955fa3-9bd2-435c-93b8-f53d74071146",
   "metadata": {},
   "outputs": [],
   "source": [
    "num = 5\n",
    "\n",
    "if num > 1:\n",
    "    pass"
   ]
  },
  {
   "cell_type": "code",
   "execution_count": 36,
   "id": "e0fc4a9a-2b31-46ee-8150-ba66e313e0c3",
   "metadata": {},
   "outputs": [
    {
     "name": "stdin",
     "output_type": "stream",
     "text": [
      "Enter the number of rows  3\n"
     ]
    },
    {
     "name": "stdout",
     "output_type": "stream",
     "text": [
      "* \n",
      "* * \n",
      "* * * \n"
     ]
    }
   ],
   "source": [
    "row = int(input('Enter the number of rows '))\n",
    "\n",
    "for i in range(1, row + 1):\n",
    "    for j in range(i):\n",
    "        print('*', end = ' ')\n",
    "    print()"
   ]
  },
  {
   "cell_type": "code",
   "execution_count": null,
   "id": "0d9f4fab-74d4-4efb-a709-4d2128d046f1",
   "metadata": {},
   "outputs": [],
   "source": []
  }
 ],
 "metadata": {
  "kernelspec": {
   "display_name": "Python 3 (ipykernel)",
   "language": "python",
   "name": "python3"
  },
  "language_info": {
   "codemirror_mode": {
    "name": "ipython",
    "version": 3
   },
   "file_extension": ".py",
   "mimetype": "text/x-python",
   "name": "python",
   "nbconvert_exporter": "python",
   "pygments_lexer": "ipython3",
   "version": "3.11.7"
  }
 },
 "nbformat": 4,
 "nbformat_minor": 5
}
