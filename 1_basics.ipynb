{
 "cells": [
  {
   "cell_type": "code",
   "execution_count": 1,
   "id": "7e44fe0f-e051-43a7-bb11-2f6b4ff2146e",
   "metadata": {},
   "outputs": [
    {
     "name": "stdout",
     "output_type": "stream",
     "text": [
      "hello world\n"
     ]
    }
   ],
   "source": [
    "print('hello world')"
   ]
  },
  {
   "cell_type": "code",
   "execution_count": 4,
   "id": "b0823978-16d4-4c18-b029-bb36f1ef6807",
   "metadata": {},
   "outputs": [],
   "source": [
    "num = 23"
   ]
  },
  {
   "cell_type": "code",
   "execution_count": 5,
   "id": "0ae99caa-b889-496f-832c-ffb5534cbd8d",
   "metadata": {},
   "outputs": [
    {
     "name": "stdout",
     "output_type": "stream",
     "text": [
      "23\n"
     ]
    }
   ],
   "source": [
    "print(num)"
   ]
  },
  {
   "cell_type": "code",
   "execution_count": 6,
   "id": "4c260584-ec21-462b-a348-d2ce24603d5f",
   "metadata": {},
   "outputs": [
    {
     "name": "stdout",
     "output_type": "stream",
     "text": [
      "num\n"
     ]
    }
   ],
   "source": [
    "print('num')"
   ]
  },
  {
   "cell_type": "code",
   "execution_count": 7,
   "id": "5241c50e-cd4f-4525-9b3d-af45841025de",
   "metadata": {},
   "outputs": [],
   "source": [
    "num1=24.6\n",
    "num2='akku'"
   ]
  },
  {
   "cell_type": "code",
   "execution_count": 9,
   "id": "2baf0605-1a18-4ab7-9721-d39889320e0c",
   "metadata": {},
   "outputs": [
    {
     "data": {
      "text/plain": [
       "23"
      ]
     },
     "execution_count": 9,
     "metadata": {},
     "output_type": "execute_result"
    }
   ],
   "source": [
    "num"
   ]
  },
  {
   "cell_type": "code",
   "execution_count": 10,
   "id": "a2ede582-6397-4134-a945-eab8d854f03f",
   "metadata": {},
   "outputs": [
    {
     "data": {
      "text/plain": [
       "24.6"
      ]
     },
     "execution_count": 10,
     "metadata": {},
     "output_type": "execute_result"
    }
   ],
   "source": [
    "num1"
   ]
  },
  {
   "cell_type": "code",
   "execution_count": 11,
   "id": "7106b811-c854-4800-85b7-70237d69b110",
   "metadata": {},
   "outputs": [
    {
     "data": {
      "text/plain": [
       "'akku'"
      ]
     },
     "execution_count": 11,
     "metadata": {},
     "output_type": "execute_result"
    }
   ],
   "source": [
    "num2"
   ]
  },
  {
   "cell_type": "code",
   "execution_count": 12,
   "id": "daf7d61a-c6b1-4456-896b-bc1e67bf90a5",
   "metadata": {},
   "outputs": [
    {
     "data": {
      "text/plain": [
       "int"
      ]
     },
     "execution_count": 12,
     "metadata": {},
     "output_type": "execute_result"
    }
   ],
   "source": [
    "type(num)"
   ]
  },
  {
   "cell_type": "code",
   "execution_count": 13,
   "id": "43e5f34b-08b7-411c-b05e-3cea3ce02fcc",
   "metadata": {},
   "outputs": [
    {
     "data": {
      "text/plain": [
       "float"
      ]
     },
     "execution_count": 13,
     "metadata": {},
     "output_type": "execute_result"
    }
   ],
   "source": [
    "type(num1)"
   ]
  },
  {
   "cell_type": "code",
   "execution_count": 14,
   "id": "2ba2ffa4-1a20-495b-aaad-a5320d1d8f3a",
   "metadata": {},
   "outputs": [
    {
     "data": {
      "text/plain": [
       "str"
      ]
     },
     "execution_count": 14,
     "metadata": {},
     "output_type": "execute_result"
    }
   ],
   "source": [
    "type(num2)"
   ]
  },
  {
   "cell_type": "code",
   "execution_count": 16,
   "id": "2278ac66-c0db-4ff0-8b8f-9a8df844bb52",
   "metadata": {},
   "outputs": [
    {
     "data": {
      "text/plain": [
       "43"
      ]
     },
     "execution_count": 16,
     "metadata": {},
     "output_type": "execute_result"
    }
   ],
   "source": [
    "num + 20"
   ]
  },
  {
   "cell_type": "code",
   "execution_count": 17,
   "id": "a419268c-0e22-4ff4-9bfa-be5623d539fe",
   "metadata": {},
   "outputs": [
    {
     "name": "stdout",
     "output_type": "stream",
     "text": [
      "33\n"
     ]
    }
   ],
   "source": [
    "numb= num+10\n",
    "print(numb)"
   ]
  },
  {
   "cell_type": "code",
   "execution_count": 18,
   "id": "b8b2c866-5226-4f00-8964-e0db62ffb837",
   "metadata": {},
   "outputs": [],
   "source": [
    "numf = 24524 ** 324 #exponential operator '**'"
   ]
  },
  {
   "cell_type": "code",
   "execution_count": 19,
   "id": "729ce223-2792-4f37-9f24-ac3e883e9604",
   "metadata": {},
   "outputs": [
    {
     "data": {
      "text/plain": [
       "1688820979874038519289791230133902640790809439550777361973721990318735813796510709543284981569298630993544297769081310379451083083992543402280533539990505191676693417118965820394327708704175520502993612815044312290664348670689966245234771890920826035096555308201967685792946171841665656658725714680953190104386826102000875998068941173601375873050574010478638083335471206218664208999929460742887988068017255304744084754932532040362936213291047635645118678491506172534526459233548192321643945223370745622242272387128187983973608449242779074008788896726535830686642349854828210548458575187775444855676567693514218412412534353209916484714168283578372499847239712511509219054530215123344864988712918788253545147772958447913332057622309458119051715648820630399102176478239879532912435721493688331265726500889236407803188850742545960334716714950760423229146299946666208303361618217334472440975156900188517444558273912520718170455829706597116962846917810699590296198889936864430439153520646993340191963979164442007752532032502428622785175277064908656761262544784652685445630583886302531965394289320133796607851668387175313754089730815566166149485775694514102979312235576091376011838180258723703409766950602992658472930390332705750318069633202591216704851153647404379096034967459950958102550551904884588498978767385385553936413412534827239580617971741798110766553717919805594841836502554265716957892144288322562496990973008623435776"
      ]
     },
     "execution_count": 19,
     "metadata": {},
     "output_type": "execute_result"
    }
   ],
   "source": [
    "numf"
   ]
  },
  {
   "cell_type": "code",
   "execution_count": 20,
   "id": "f6c5a20c-63c5-497e-b0ea-0230ac44090f",
   "metadata": {},
   "outputs": [
    {
     "name": "stdout",
     "output_type": "stream",
     "text": [
      "18000.0\n"
     ]
    }
   ],
   "source": [
    "raiseto = 18e3 # 18 multiply by 10 raise to 3\n",
    "print(raiseto)"
   ]
  },
  {
   "cell_type": "code",
   "execution_count": 21,
   "id": "e8608b3d-5cbd-477b-916a-f90a128aec70",
   "metadata": {},
   "outputs": [],
   "source": [
    "n1, n2, n3 = 1, 2, 3"
   ]
  },
  {
   "cell_type": "code",
   "execution_count": 22,
   "id": "df2cc7ab-29e9-4e87-a2c0-63bef92744e1",
   "metadata": {},
   "outputs": [
    {
     "data": {
      "text/plain": [
       "1"
      ]
     },
     "execution_count": 22,
     "metadata": {},
     "output_type": "execute_result"
    }
   ],
   "source": [
    "n1"
   ]
  },
  {
   "cell_type": "code",
   "execution_count": 23,
   "id": "dd61376a-956e-4e62-9037-12dc6f85b192",
   "metadata": {},
   "outputs": [
    {
     "data": {
      "text/plain": [
       "2"
      ]
     },
     "execution_count": 23,
     "metadata": {},
     "output_type": "execute_result"
    }
   ],
   "source": [
    "n2"
   ]
  },
  {
   "cell_type": "code",
   "execution_count": 24,
   "id": "6da3737c-897e-4a87-9b78-666db697a281",
   "metadata": {},
   "outputs": [
    {
     "data": {
      "text/plain": [
       "3"
      ]
     },
     "execution_count": 24,
     "metadata": {},
     "output_type": "execute_result"
    }
   ],
   "source": [
    "n3"
   ]
  },
  {
   "cell_type": "code",
   "execution_count": 26,
   "id": "e408c903-cbad-4e15-aa6b-28c242dd7183",
   "metadata": {},
   "outputs": [],
   "source": [
    "#string data type"
   ]
  },
  {
   "cell_type": "code",
   "execution_count": 27,
   "id": "b6e64c66-3396-463a-8afc-251678601533",
   "metadata": {},
   "outputs": [],
   "source": [
    "name = 'Akku'"
   ]
  },
  {
   "cell_type": "code",
   "execution_count": 28,
   "id": "e79fe8b6-622f-4e16-a3a7-9c2fc6953005",
   "metadata": {},
   "outputs": [
    {
     "data": {
      "text/plain": [
       "'Akku'"
      ]
     },
     "execution_count": 28,
     "metadata": {},
     "output_type": "execute_result"
    }
   ],
   "source": [
    "name"
   ]
  },
  {
   "cell_type": "code",
   "execution_count": 29,
   "id": "6de2d6f3-e9ac-4d02-a796-12d3fdd7a9c8",
   "metadata": {},
   "outputs": [
    {
     "data": {
      "text/plain": [
       "'AKKU'"
      ]
     },
     "execution_count": 29,
     "metadata": {},
     "output_type": "execute_result"
    }
   ],
   "source": [
    "name.upper()"
   ]
  },
  {
   "cell_type": "code",
   "execution_count": 30,
   "id": "494b1aba-55e2-43b0-93d0-b6521cedc2ea",
   "metadata": {},
   "outputs": [
    {
     "data": {
      "text/plain": [
       "'akku'"
      ]
     },
     "execution_count": 30,
     "metadata": {},
     "output_type": "execute_result"
    }
   ],
   "source": [
    "name.lower()"
   ]
  },
  {
   "cell_type": "code",
   "execution_count": 31,
   "id": "a0a80a06-ddf2-446c-9647-448a72360135",
   "metadata": {},
   "outputs": [
    {
     "data": {
      "text/plain": [
       "'aKKU'"
      ]
     },
     "execution_count": 31,
     "metadata": {},
     "output_type": "execute_result"
    }
   ],
   "source": [
    "name.swapcase()"
   ]
  },
  {
   "cell_type": "code",
   "execution_count": 32,
   "id": "ed213b12-9ca4-4c0e-8ff4-e83a66f018cd",
   "metadata": {},
   "outputs": [
    {
     "data": {
      "text/plain": [
       "4"
      ]
     },
     "execution_count": 32,
     "metadata": {},
     "output_type": "execute_result"
    }
   ],
   "source": [
    "len(name)"
   ]
  },
  {
   "cell_type": "code",
   "execution_count": 33,
   "id": "db865c14-4adb-471c-bd67-3c0beaf4a5e6",
   "metadata": {},
   "outputs": [
    {
     "data": {
      "text/plain": [
       "False"
      ]
     },
     "execution_count": 33,
     "metadata": {},
     "output_type": "execute_result"
    }
   ],
   "source": [
    "name.isupper()"
   ]
  },
  {
   "cell_type": "code",
   "execution_count": 34,
   "id": "84355a7c-afea-40c5-9b29-054ae5881b45",
   "metadata": {},
   "outputs": [
    {
     "data": {
      "text/plain": [
       "False"
      ]
     },
     "execution_count": 34,
     "metadata": {},
     "output_type": "execute_result"
    }
   ],
   "source": [
    "name.islower()"
   ]
  },
  {
   "cell_type": "code",
   "execution_count": 36,
   "id": "242f9289-7842-4a36-81c5-b2a6cb7d6af8",
   "metadata": {},
   "outputs": [
    {
     "data": {
      "text/plain": [
       "True"
      ]
     },
     "execution_count": 36,
     "metadata": {},
     "output_type": "execute_result"
    }
   ],
   "source": [
    "name.istitle() # only 1st letter capital"
   ]
  },
  {
   "cell_type": "code",
   "execution_count": 37,
   "id": "d40121f2-d3a7-4602-9fe7-97281a79cd62",
   "metadata": {},
   "outputs": [],
   "source": [
    "#types of string "
   ]
  },
  {
   "cell_type": "code",
   "execution_count": 38,
   "id": "c82423b5-6d41-4ab7-9c52-55d8cb1f41e6",
   "metadata": {},
   "outputs": [],
   "source": [
    "d1 = 'Akkus'\n",
    "d2 = '1234'\n",
    "d3 = 'Akku1234'"
   ]
  },
  {
   "cell_type": "code",
   "execution_count": 39,
   "id": "c41637bc-7d55-47e0-8854-594d55233bf7",
   "metadata": {},
   "outputs": [
    {
     "data": {
      "text/plain": [
       "True"
      ]
     },
     "execution_count": 39,
     "metadata": {},
     "output_type": "execute_result"
    }
   ],
   "source": [
    "d1.isalpha() # all alphabets in string the true"
   ]
  },
  {
   "cell_type": "code",
   "execution_count": 40,
   "id": "e3bf88fe-cb56-48f6-8a79-bbb50aeb8d05",
   "metadata": {},
   "outputs": [
    {
     "data": {
      "text/plain": [
       "False"
      ]
     },
     "execution_count": 40,
     "metadata": {},
     "output_type": "execute_result"
    }
   ],
   "source": [
    "d1.isdigit() # numeric string then true "
   ]
  },
  {
   "cell_type": "code",
   "execution_count": 41,
   "id": "d7a51061-162f-458a-814d-4c2d6e237429",
   "metadata": {},
   "outputs": [
    {
     "data": {
      "text/plain": [
       "True"
      ]
     },
     "execution_count": 41,
     "metadata": {},
     "output_type": "execute_result"
    }
   ],
   "source": [
    "d1.isalnum() # if num present the true "
   ]
  },
  {
   "cell_type": "code",
   "execution_count": 42,
   "id": "b9958983-8fba-49cb-9495-27af97ed41b0",
   "metadata": {},
   "outputs": [
    {
     "data": {
      "text/plain": [
       "False"
      ]
     },
     "execution_count": 42,
     "metadata": {},
     "output_type": "execute_result"
    }
   ],
   "source": [
    "d2.isalpha()"
   ]
  },
  {
   "cell_type": "code",
   "execution_count": 43,
   "id": "998c9e7d-dcf4-4c96-af72-6fa0687d92f9",
   "metadata": {},
   "outputs": [
    {
     "data": {
      "text/plain": [
       "True"
      ]
     },
     "execution_count": 43,
     "metadata": {},
     "output_type": "execute_result"
    }
   ],
   "source": [
    "d2.isdigit()"
   ]
  },
  {
   "cell_type": "code",
   "execution_count": 44,
   "id": "80f94723-934d-4c58-9b18-464425eb7e62",
   "metadata": {},
   "outputs": [
    {
     "data": {
      "text/plain": [
       "True"
      ]
     },
     "execution_count": 44,
     "metadata": {},
     "output_type": "execute_result"
    }
   ],
   "source": [
    "d2.isalnum()"
   ]
  },
  {
   "cell_type": "code",
   "execution_count": 45,
   "id": "043791c0-7453-4ca5-9331-acccefdc9f1f",
   "metadata": {},
   "outputs": [
    {
     "data": {
      "text/plain": [
       "False"
      ]
     },
     "execution_count": 45,
     "metadata": {},
     "output_type": "execute_result"
    }
   ],
   "source": [
    "d3.isalpha()"
   ]
  },
  {
   "cell_type": "code",
   "execution_count": 46,
   "id": "5dad8828-2858-44b0-b3dc-7ff907ee7aa1",
   "metadata": {},
   "outputs": [
    {
     "data": {
      "text/plain": [
       "False"
      ]
     },
     "execution_count": 46,
     "metadata": {},
     "output_type": "execute_result"
    }
   ],
   "source": [
    "d3.isdigit()"
   ]
  },
  {
   "cell_type": "code",
   "execution_count": 47,
   "id": "0b40016d-8dc9-4e6e-8367-a409e88b74d4",
   "metadata": {},
   "outputs": [
    {
     "data": {
      "text/plain": [
       "True"
      ]
     },
     "execution_count": 47,
     "metadata": {},
     "output_type": "execute_result"
    }
   ],
   "source": [
    "d3.isalnum()"
   ]
  },
  {
   "cell_type": "code",
   "execution_count": 48,
   "id": "ca7ddf05-c356-4821-b3c4-3702a61b4577",
   "metadata": {},
   "outputs": [],
   "source": [
    "#spaces in string"
   ]
  },
  {
   "cell_type": "code",
   "execution_count": 49,
   "id": "87f2a479-0d17-418c-bea6-a0dd439fa1ce",
   "metadata": {},
   "outputs": [],
   "source": [
    "stris = '  aakku  '"
   ]
  },
  {
   "cell_type": "code",
   "execution_count": 50,
   "id": "83287bb1-da83-47d3-a87e-ddae8bc4d2ed",
   "metadata": {},
   "outputs": [
    {
     "data": {
      "text/plain": [
       "'aakku  '"
      ]
     },
     "execution_count": 50,
     "metadata": {},
     "output_type": "execute_result"
    }
   ],
   "source": [
    "stris.lstrip()"
   ]
  },
  {
   "cell_type": "code",
   "execution_count": 51,
   "id": "92a2b868-d5cb-4df0-9905-f81db4ffe27e",
   "metadata": {},
   "outputs": [
    {
     "data": {
      "text/plain": [
       "'  aakku'"
      ]
     },
     "execution_count": 51,
     "metadata": {},
     "output_type": "execute_result"
    }
   ],
   "source": [
    "stris.rstrip()"
   ]
  },
  {
   "cell_type": "code",
   "execution_count": 52,
   "id": "1b16ae69-2463-4029-a15d-326385e18aa4",
   "metadata": {},
   "outputs": [
    {
     "data": {
      "text/plain": [
       "'aakku'"
      ]
     },
     "execution_count": 52,
     "metadata": {},
     "output_type": "execute_result"
    }
   ],
   "source": [
    "stris.strip()"
   ]
  },
  {
   "cell_type": "code",
   "execution_count": 53,
   "id": "8ed55113-d487-46b8-8c73-0bf5c30241d8",
   "metadata": {},
   "outputs": [],
   "source": [
    "#other methods"
   ]
  },
  {
   "cell_type": "code",
   "execution_count": 54,
   "id": "845cb809-cd2c-4e32-a967-5e6fe3cbe030",
   "metadata": {},
   "outputs": [
    {
     "data": {
      "text/plain": [
       "True"
      ]
     },
     "execution_count": 54,
     "metadata": {},
     "output_type": "execute_result"
    }
   ],
   "source": [
    "stris.startswith(' ')"
   ]
  },
  {
   "cell_type": "code",
   "execution_count": 55,
   "id": "2ff3ea4e-d658-46f4-a5d7-2d3ee3d6b625",
   "metadata": {},
   "outputs": [
    {
     "data": {
      "text/plain": [
       "False"
      ]
     },
     "execution_count": 55,
     "metadata": {},
     "output_type": "execute_result"
    }
   ],
   "source": [
    "stris.endswith('a')"
   ]
  },
  {
   "cell_type": "code",
   "execution_count": 56,
   "id": "1aca8139-7a8e-4d4e-a8a8-a0fc412fc21c",
   "metadata": {},
   "outputs": [
    {
     "data": {
      "text/plain": [
       "'  aattu  '"
      ]
     },
     "execution_count": 56,
     "metadata": {},
     "output_type": "execute_result"
    }
   ],
   "source": [
    "stris.replace('kk', 'tt')"
   ]
  },
  {
   "cell_type": "code",
   "execution_count": 57,
   "id": "b65c9606-4deb-4ab3-97a7-02c2137c4d46",
   "metadata": {},
   "outputs": [
    {
     "data": {
      "text/plain": [
       "6"
      ]
     },
     "execution_count": 57,
     "metadata": {},
     "output_type": "execute_result"
    }
   ],
   "source": [
    "stris.find('u')"
   ]
  },
  {
   "cell_type": "code",
   "execution_count": 58,
   "id": "390961c9-66c4-4309-a80b-05e73936b341",
   "metadata": {},
   "outputs": [
    {
     "data": {
      "text/plain": [
       "['__add__',\n",
       " '__class__',\n",
       " '__contains__',\n",
       " '__delattr__',\n",
       " '__dir__',\n",
       " '__doc__',\n",
       " '__eq__',\n",
       " '__format__',\n",
       " '__ge__',\n",
       " '__getattribute__',\n",
       " '__getitem__',\n",
       " '__getnewargs__',\n",
       " '__getstate__',\n",
       " '__gt__',\n",
       " '__hash__',\n",
       " '__init__',\n",
       " '__init_subclass__',\n",
       " '__iter__',\n",
       " '__le__',\n",
       " '__len__',\n",
       " '__lt__',\n",
       " '__mod__',\n",
       " '__mul__',\n",
       " '__ne__',\n",
       " '__new__',\n",
       " '__reduce__',\n",
       " '__reduce_ex__',\n",
       " '__repr__',\n",
       " '__rmod__',\n",
       " '__rmul__',\n",
       " '__setattr__',\n",
       " '__sizeof__',\n",
       " '__str__',\n",
       " '__subclasshook__',\n",
       " 'capitalize',\n",
       " 'casefold',\n",
       " 'center',\n",
       " 'count',\n",
       " 'encode',\n",
       " 'endswith',\n",
       " 'expandtabs',\n",
       " 'find',\n",
       " 'format',\n",
       " 'format_map',\n",
       " 'index',\n",
       " 'isalnum',\n",
       " 'isalpha',\n",
       " 'isascii',\n",
       " 'isdecimal',\n",
       " 'isdigit',\n",
       " 'isidentifier',\n",
       " 'islower',\n",
       " 'isnumeric',\n",
       " 'isprintable',\n",
       " 'isspace',\n",
       " 'istitle',\n",
       " 'isupper',\n",
       " 'join',\n",
       " 'ljust',\n",
       " 'lower',\n",
       " 'lstrip',\n",
       " 'maketrans',\n",
       " 'partition',\n",
       " 'removeprefix',\n",
       " 'removesuffix',\n",
       " 'replace',\n",
       " 'rfind',\n",
       " 'rindex',\n",
       " 'rjust',\n",
       " 'rpartition',\n",
       " 'rsplit',\n",
       " 'rstrip',\n",
       " 'split',\n",
       " 'splitlines',\n",
       " 'startswith',\n",
       " 'strip',\n",
       " 'swapcase',\n",
       " 'title',\n",
       " 'translate',\n",
       " 'upper',\n",
       " 'zfill']"
      ]
     },
     "execution_count": 58,
     "metadata": {},
     "output_type": "execute_result"
    }
   ],
   "source": [
    "dir(stris)"
   ]
  },
  {
   "cell_type": "code",
   "execution_count": 60,
   "id": "cc9f4bcd-117a-4113-83b2-632b6dbead43",
   "metadata": {},
   "outputs": [
    {
     "name": "stdout",
     "output_type": "stream",
     "text": [
      "Help on class str in module builtins:\n",
      "\n",
      "class str(object)\n",
      " |  str(object='') -> str\n",
      " |  str(bytes_or_buffer[, encoding[, errors]]) -> str\n",
      " |  \n",
      " |  Create a new string object from the given object. If encoding or\n",
      " |  errors is specified, then the object must expose a data buffer\n",
      " |  that will be decoded using the given encoding and error handler.\n",
      " |  Otherwise, returns the result of object.__str__() (if defined)\n",
      " |  or repr(object).\n",
      " |  encoding defaults to sys.getdefaultencoding().\n",
      " |  errors defaults to 'strict'.\n",
      " |  \n",
      " |  Methods defined here:\n",
      " |  \n",
      " |  __add__(self, value, /)\n",
      " |      Return self+value.\n",
      " |  \n",
      " |  __contains__(self, key, /)\n",
      " |      Return key in self.\n",
      " |  \n",
      " |  __eq__(self, value, /)\n",
      " |      Return self==value.\n",
      " |  \n",
      " |  __format__(self, format_spec, /)\n",
      " |      Return a formatted version of the string as described by format_spec.\n",
      " |  \n",
      " |  __ge__(self, value, /)\n",
      " |      Return self>=value.\n",
      " |  \n",
      " |  __getattribute__(self, name, /)\n",
      " |      Return getattr(self, name).\n",
      " |  \n",
      " |  __getitem__(self, key, /)\n",
      " |      Return self[key].\n",
      " |  \n",
      " |  __getnewargs__(...)\n",
      " |  \n",
      " |  __gt__(self, value, /)\n",
      " |      Return self>value.\n",
      " |  \n",
      " |  __hash__(self, /)\n",
      " |      Return hash(self).\n",
      " |  \n",
      " |  __iter__(self, /)\n",
      " |      Implement iter(self).\n",
      " |  \n",
      " |  __le__(self, value, /)\n",
      " |      Return self<=value.\n",
      " |  \n",
      " |  __len__(self, /)\n",
      " |      Return len(self).\n",
      " |  \n",
      " |  __lt__(self, value, /)\n",
      " |      Return self<value.\n",
      " |  \n",
      " |  __mod__(self, value, /)\n",
      " |      Return self%value.\n",
      " |  \n",
      " |  __mul__(self, value, /)\n",
      " |      Return self*value.\n",
      " |  \n",
      " |  __ne__(self, value, /)\n",
      " |      Return self!=value.\n",
      " |  \n",
      " |  __repr__(self, /)\n",
      " |      Return repr(self).\n",
      " |  \n",
      " |  __rmod__(self, value, /)\n",
      " |      Return value%self.\n",
      " |  \n",
      " |  __rmul__(self, value, /)\n",
      " |      Return value*self.\n",
      " |  \n",
      " |  __sizeof__(self, /)\n",
      " |      Return the size of the string in memory, in bytes.\n",
      " |  \n",
      " |  __str__(self, /)\n",
      " |      Return str(self).\n",
      " |  \n",
      " |  capitalize(self, /)\n",
      " |      Return a capitalized version of the string.\n",
      " |      \n",
      " |      More specifically, make the first character have upper case and the rest lower\n",
      " |      case.\n",
      " |  \n",
      " |  casefold(self, /)\n",
      " |      Return a version of the string suitable for caseless comparisons.\n",
      " |  \n",
      " |  center(self, width, fillchar=' ', /)\n",
      " |      Return a centered string of length width.\n",
      " |      \n",
      " |      Padding is done using the specified fill character (default is a space).\n",
      " |  \n",
      " |  count(...)\n",
      " |      S.count(sub[, start[, end]]) -> int\n",
      " |      \n",
      " |      Return the number of non-overlapping occurrences of substring sub in\n",
      " |      string S[start:end].  Optional arguments start and end are\n",
      " |      interpreted as in slice notation.\n",
      " |  \n",
      " |  encode(self, /, encoding='utf-8', errors='strict')\n",
      " |      Encode the string using the codec registered for encoding.\n",
      " |      \n",
      " |      encoding\n",
      " |        The encoding in which to encode the string.\n",
      " |      errors\n",
      " |        The error handling scheme to use for encoding errors.\n",
      " |        The default is 'strict' meaning that encoding errors raise a\n",
      " |        UnicodeEncodeError.  Other possible values are 'ignore', 'replace' and\n",
      " |        'xmlcharrefreplace' as well as any other name registered with\n",
      " |        codecs.register_error that can handle UnicodeEncodeErrors.\n",
      " |  \n",
      " |  endswith(...)\n",
      " |      S.endswith(suffix[, start[, end]]) -> bool\n",
      " |      \n",
      " |      Return True if S ends with the specified suffix, False otherwise.\n",
      " |      With optional start, test S beginning at that position.\n",
      " |      With optional end, stop comparing S at that position.\n",
      " |      suffix can also be a tuple of strings to try.\n",
      " |  \n",
      " |  expandtabs(self, /, tabsize=8)\n",
      " |      Return a copy where all tab characters are expanded using spaces.\n",
      " |      \n",
      " |      If tabsize is not given, a tab size of 8 characters is assumed.\n",
      " |  \n",
      " |  find(...)\n",
      " |      S.find(sub[, start[, end]]) -> int\n",
      " |      \n",
      " |      Return the lowest index in S where substring sub is found,\n",
      " |      such that sub is contained within S[start:end].  Optional\n",
      " |      arguments start and end are interpreted as in slice notation.\n",
      " |      \n",
      " |      Return -1 on failure.\n",
      " |  \n",
      " |  format(...)\n",
      " |      S.format(*args, **kwargs) -> str\n",
      " |      \n",
      " |      Return a formatted version of S, using substitutions from args and kwargs.\n",
      " |      The substitutions are identified by braces ('{' and '}').\n",
      " |  \n",
      " |  format_map(...)\n",
      " |      S.format_map(mapping) -> str\n",
      " |      \n",
      " |      Return a formatted version of S, using substitutions from mapping.\n",
      " |      The substitutions are identified by braces ('{' and '}').\n",
      " |  \n",
      " |  index(...)\n",
      " |      S.index(sub[, start[, end]]) -> int\n",
      " |      \n",
      " |      Return the lowest index in S where substring sub is found,\n",
      " |      such that sub is contained within S[start:end].  Optional\n",
      " |      arguments start and end are interpreted as in slice notation.\n",
      " |      \n",
      " |      Raises ValueError when the substring is not found.\n",
      " |  \n",
      " |  isalnum(self, /)\n",
      " |      Return True if the string is an alpha-numeric string, False otherwise.\n",
      " |      \n",
      " |      A string is alpha-numeric if all characters in the string are alpha-numeric and\n",
      " |      there is at least one character in the string.\n",
      " |  \n",
      " |  isalpha(self, /)\n",
      " |      Return True if the string is an alphabetic string, False otherwise.\n",
      " |      \n",
      " |      A string is alphabetic if all characters in the string are alphabetic and there\n",
      " |      is at least one character in the string.\n",
      " |  \n",
      " |  isascii(self, /)\n",
      " |      Return True if all characters in the string are ASCII, False otherwise.\n",
      " |      \n",
      " |      ASCII characters have code points in the range U+0000-U+007F.\n",
      " |      Empty string is ASCII too.\n",
      " |  \n",
      " |  isdecimal(self, /)\n",
      " |      Return True if the string is a decimal string, False otherwise.\n",
      " |      \n",
      " |      A string is a decimal string if all characters in the string are decimal and\n",
      " |      there is at least one character in the string.\n",
      " |  \n",
      " |  isdigit(self, /)\n",
      " |      Return True if the string is a digit string, False otherwise.\n",
      " |      \n",
      " |      A string is a digit string if all characters in the string are digits and there\n",
      " |      is at least one character in the string.\n",
      " |  \n",
      " |  isidentifier(self, /)\n",
      " |      Return True if the string is a valid Python identifier, False otherwise.\n",
      " |      \n",
      " |      Call keyword.iskeyword(s) to test whether string s is a reserved identifier,\n",
      " |      such as \"def\" or \"class\".\n",
      " |  \n",
      " |  islower(self, /)\n",
      " |      Return True if the string is a lowercase string, False otherwise.\n",
      " |      \n",
      " |      A string is lowercase if all cased characters in the string are lowercase and\n",
      " |      there is at least one cased character in the string.\n",
      " |  \n",
      " |  isnumeric(self, /)\n",
      " |      Return True if the string is a numeric string, False otherwise.\n",
      " |      \n",
      " |      A string is numeric if all characters in the string are numeric and there is at\n",
      " |      least one character in the string.\n",
      " |  \n",
      " |  isprintable(self, /)\n",
      " |      Return True if the string is printable, False otherwise.\n",
      " |      \n",
      " |      A string is printable if all of its characters are considered printable in\n",
      " |      repr() or if it is empty.\n",
      " |  \n",
      " |  isspace(self, /)\n",
      " |      Return True if the string is a whitespace string, False otherwise.\n",
      " |      \n",
      " |      A string is whitespace if all characters in the string are whitespace and there\n",
      " |      is at least one character in the string.\n",
      " |  \n",
      " |  istitle(self, /)\n",
      " |      Return True if the string is a title-cased string, False otherwise.\n",
      " |      \n",
      " |      In a title-cased string, upper- and title-case characters may only\n",
      " |      follow uncased characters and lowercase characters only cased ones.\n",
      " |  \n",
      " |  isupper(self, /)\n",
      " |      Return True if the string is an uppercase string, False otherwise.\n",
      " |      \n",
      " |      A string is uppercase if all cased characters in the string are uppercase and\n",
      " |      there is at least one cased character in the string.\n",
      " |  \n",
      " |  join(self, iterable, /)\n",
      " |      Concatenate any number of strings.\n",
      " |      \n",
      " |      The string whose method is called is inserted in between each given string.\n",
      " |      The result is returned as a new string.\n",
      " |      \n",
      " |      Example: '.'.join(['ab', 'pq', 'rs']) -> 'ab.pq.rs'\n",
      " |  \n",
      " |  ljust(self, width, fillchar=' ', /)\n",
      " |      Return a left-justified string of length width.\n",
      " |      \n",
      " |      Padding is done using the specified fill character (default is a space).\n",
      " |  \n",
      " |  lower(self, /)\n",
      " |      Return a copy of the string converted to lowercase.\n",
      " |  \n",
      " |  lstrip(self, chars=None, /)\n",
      " |      Return a copy of the string with leading whitespace removed.\n",
      " |      \n",
      " |      If chars is given and not None, remove characters in chars instead.\n",
      " |  \n",
      " |  partition(self, sep, /)\n",
      " |      Partition the string into three parts using the given separator.\n",
      " |      \n",
      " |      This will search for the separator in the string.  If the separator is found,\n",
      " |      returns a 3-tuple containing the part before the separator, the separator\n",
      " |      itself, and the part after it.\n",
      " |      \n",
      " |      If the separator is not found, returns a 3-tuple containing the original string\n",
      " |      and two empty strings.\n",
      " |  \n",
      " |  removeprefix(self, prefix, /)\n",
      " |      Return a str with the given prefix string removed if present.\n",
      " |      \n",
      " |      If the string starts with the prefix string, return string[len(prefix):].\n",
      " |      Otherwise, return a copy of the original string.\n",
      " |  \n",
      " |  removesuffix(self, suffix, /)\n",
      " |      Return a str with the given suffix string removed if present.\n",
      " |      \n",
      " |      If the string ends with the suffix string and that suffix is not empty,\n",
      " |      return string[:-len(suffix)]. Otherwise, return a copy of the original\n",
      " |      string.\n",
      " |  \n",
      " |  replace(self, old, new, count=-1, /)\n",
      " |      Return a copy with all occurrences of substring old replaced by new.\n",
      " |      \n",
      " |        count\n",
      " |          Maximum number of occurrences to replace.\n",
      " |          -1 (the default value) means replace all occurrences.\n",
      " |      \n",
      " |      If the optional argument count is given, only the first count occurrences are\n",
      " |      replaced.\n",
      " |  \n",
      " |  rfind(...)\n",
      " |      S.rfind(sub[, start[, end]]) -> int\n",
      " |      \n",
      " |      Return the highest index in S where substring sub is found,\n",
      " |      such that sub is contained within S[start:end].  Optional\n",
      " |      arguments start and end are interpreted as in slice notation.\n",
      " |      \n",
      " |      Return -1 on failure.\n",
      " |  \n",
      " |  rindex(...)\n",
      " |      S.rindex(sub[, start[, end]]) -> int\n",
      " |      \n",
      " |      Return the highest index in S where substring sub is found,\n",
      " |      such that sub is contained within S[start:end].  Optional\n",
      " |      arguments start and end are interpreted as in slice notation.\n",
      " |      \n",
      " |      Raises ValueError when the substring is not found.\n",
      " |  \n",
      " |  rjust(self, width, fillchar=' ', /)\n",
      " |      Return a right-justified string of length width.\n",
      " |      \n",
      " |      Padding is done using the specified fill character (default is a space).\n",
      " |  \n",
      " |  rpartition(self, sep, /)\n",
      " |      Partition the string into three parts using the given separator.\n",
      " |      \n",
      " |      This will search for the separator in the string, starting at the end. If\n",
      " |      the separator is found, returns a 3-tuple containing the part before the\n",
      " |      separator, the separator itself, and the part after it.\n",
      " |      \n",
      " |      If the separator is not found, returns a 3-tuple containing two empty strings\n",
      " |      and the original string.\n",
      " |  \n",
      " |  rsplit(self, /, sep=None, maxsplit=-1)\n",
      " |      Return a list of the substrings in the string, using sep as the separator string.\n",
      " |      \n",
      " |        sep\n",
      " |          The separator used to split the string.\n",
      " |      \n",
      " |          When set to None (the default value), will split on any whitespace\n",
      " |          character (including \\n \\r \\t \\f and spaces) and will discard\n",
      " |          empty strings from the result.\n",
      " |        maxsplit\n",
      " |          Maximum number of splits (starting from the left).\n",
      " |          -1 (the default value) means no limit.\n",
      " |      \n",
      " |      Splitting starts at the end of the string and works to the front.\n",
      " |  \n",
      " |  rstrip(self, chars=None, /)\n",
      " |      Return a copy of the string with trailing whitespace removed.\n",
      " |      \n",
      " |      If chars is given and not None, remove characters in chars instead.\n",
      " |  \n",
      " |  split(self, /, sep=None, maxsplit=-1)\n",
      " |      Return a list of the substrings in the string, using sep as the separator string.\n",
      " |      \n",
      " |        sep\n",
      " |          The separator used to split the string.\n",
      " |      \n",
      " |          When set to None (the default value), will split on any whitespace\n",
      " |          character (including \\n \\r \\t \\f and spaces) and will discard\n",
      " |          empty strings from the result.\n",
      " |        maxsplit\n",
      " |          Maximum number of splits (starting from the left).\n",
      " |          -1 (the default value) means no limit.\n",
      " |      \n",
      " |      Note, str.split() is mainly useful for data that has been intentionally\n",
      " |      delimited.  With natural text that includes punctuation, consider using\n",
      " |      the regular expression module.\n",
      " |  \n",
      " |  splitlines(self, /, keepends=False)\n",
      " |      Return a list of the lines in the string, breaking at line boundaries.\n",
      " |      \n",
      " |      Line breaks are not included in the resulting list unless keepends is given and\n",
      " |      true.\n",
      " |  \n",
      " |  startswith(...)\n",
      " |      S.startswith(prefix[, start[, end]]) -> bool\n",
      " |      \n",
      " |      Return True if S starts with the specified prefix, False otherwise.\n",
      " |      With optional start, test S beginning at that position.\n",
      " |      With optional end, stop comparing S at that position.\n",
      " |      prefix can also be a tuple of strings to try.\n",
      " |  \n",
      " |  strip(self, chars=None, /)\n",
      " |      Return a copy of the string with leading and trailing whitespace removed.\n",
      " |      \n",
      " |      If chars is given and not None, remove characters in chars instead.\n",
      " |  \n",
      " |  swapcase(self, /)\n",
      " |      Convert uppercase characters to lowercase and lowercase characters to uppercase.\n",
      " |  \n",
      " |  title(self, /)\n",
      " |      Return a version of the string where each word is titlecased.\n",
      " |      \n",
      " |      More specifically, words start with uppercased characters and all remaining\n",
      " |      cased characters have lower case.\n",
      " |  \n",
      " |  translate(self, table, /)\n",
      " |      Replace each character in the string using the given translation table.\n",
      " |      \n",
      " |        table\n",
      " |          Translation table, which must be a mapping of Unicode ordinals to\n",
      " |          Unicode ordinals, strings, or None.\n",
      " |      \n",
      " |      The table must implement lookup/indexing via __getitem__, for instance a\n",
      " |      dictionary or list.  If this operation raises LookupError, the character is\n",
      " |      left untouched.  Characters mapped to None are deleted.\n",
      " |  \n",
      " |  upper(self, /)\n",
      " |      Return a copy of the string converted to uppercase.\n",
      " |  \n",
      " |  zfill(self, width, /)\n",
      " |      Pad a numeric string with zeros on the left, to fill a field of the given width.\n",
      " |      \n",
      " |      The string is never truncated.\n",
      " |  \n",
      " |  ----------------------------------------------------------------------\n",
      " |  Static methods defined here:\n",
      " |  \n",
      " |  __new__(*args, **kwargs) from builtins.type\n",
      " |      Create and return a new object.  See help(type) for accurate signature.\n",
      " |  \n",
      " |  maketrans(...)\n",
      " |      Return a translation table usable for str.translate().\n",
      " |      \n",
      " |      If there is only one argument, it must be a dictionary mapping Unicode\n",
      " |      ordinals (integers) or characters to Unicode ordinals, strings or None.\n",
      " |      Character keys will be then converted to ordinals.\n",
      " |      If there are two arguments, they must be strings of equal length, and\n",
      " |      in the resulting dictionary, each character in x will be mapped to the\n",
      " |      character at the same position in y. If there is a third argument, it\n",
      " |      must be a string, whose characters will be mapped to None in the result.\n",
      "\n"
     ]
    }
   ],
   "source": [
    "help(str)"
   ]
  },
  {
   "cell_type": "code",
   "execution_count": 61,
   "id": "3a1c5184-974a-4b28-b061-8def18fa9ab3",
   "metadata": {},
   "outputs": [
    {
     "name": "stdout",
     "output_type": "stream",
     "text": [
      "hello\n",
      " akku\n"
     ]
    }
   ],
   "source": [
    "print('hello\\n akku')"
   ]
  },
  {
   "cell_type": "code",
   "execution_count": 62,
   "id": "37cdbd83-f2aa-40dc-b4de-59bf302bfa5a",
   "metadata": {},
   "outputs": [
    {
     "name": "stdout",
     "output_type": "stream",
     "text": [
      "hello\takku\n"
     ]
    }
   ],
   "source": [
    "print('hello\\takku')"
   ]
  },
  {
   "cell_type": "code",
   "execution_count": 63,
   "id": "336c9550-326b-4a90-980e-04983afa11b3",
   "metadata": {},
   "outputs": [
    {
     "data": {
      "text/plain": [
       "97"
      ]
     },
     "execution_count": 63,
     "metadata": {},
     "output_type": "execute_result"
    }
   ],
   "source": [
    "ord('a') # ASCII value of a"
   ]
  },
  {
   "cell_type": "code",
   "execution_count": 64,
   "id": "658c488b-3eab-4ba5-b5a1-e3fb37afde9e",
   "metadata": {},
   "outputs": [
    {
     "data": {
      "text/plain": [
       "'Ȩ'"
      ]
     },
     "execution_count": 64,
     "metadata": {},
     "output_type": "execute_result"
    }
   ],
   "source": [
    "chr(552)"
   ]
  },
  {
   "cell_type": "code",
   "execution_count": 66,
   "id": "d3941001-d95b-407d-86b5-7aba28f39f5d",
   "metadata": {},
   "outputs": [],
   "source": [
    "nm = 'aakanksha'\n",
    "mrk = 90"
   ]
  },
  {
   "cell_type": "code",
   "execution_count": 67,
   "id": "e11aa93c-79e3-4e9c-b5f6-b4fdade5b22a",
   "metadata": {},
   "outputs": [
    {
     "name": "stdout",
     "output_type": "stream",
     "text": [
      "my name is:  aakanksha \n",
      "my marks are:  90\n"
     ]
    }
   ],
   "source": [
    "print('my name is: ', nm, '\\nmy marks are: ', mrk)"
   ]
  },
  {
   "cell_type": "code",
   "execution_count": 69,
   "id": "4668f179-4c12-494a-a52c-9cb4601a9b17",
   "metadata": {},
   "outputs": [
    {
     "name": "stdout",
     "output_type": "stream",
     "text": [
      "aakanksha@90\n"
     ]
    }
   ],
   "source": [
    "print(nm, mrk, sep = '@') # 'sep' -> seperator "
   ]
  },
  {
   "cell_type": "code",
   "execution_count": 70,
   "id": "f5766e76-d58f-4d14-b6c1-c0053e5d0b74",
   "metadata": {},
   "outputs": [
    {
     "name": "stdout",
     "output_type": "stream",
     "text": [
      "aakanksha 90%"
     ]
    }
   ],
   "source": [
    "print(nm, mrk, end = '%')"
   ]
  },
  {
   "cell_type": "code",
   "execution_count": 71,
   "id": "a17cd717-48cc-421f-acda-652834efad3f",
   "metadata": {},
   "outputs": [],
   "source": [
    "#Arithmetic operators"
   ]
  },
  {
   "cell_type": "code",
   "execution_count": 72,
   "id": "1ed242a2-9c9f-46c4-9e3f-2a801d8f45fe",
   "metadata": {},
   "outputs": [],
   "source": [
    "num = 20"
   ]
  },
  {
   "cell_type": "code",
   "execution_count": 73,
   "id": "7fc20220-688c-44db-9e7d-fb1d1d69654a",
   "metadata": {},
   "outputs": [
    {
     "data": {
      "text/plain": [
       "40"
      ]
     },
     "execution_count": 73,
     "metadata": {},
     "output_type": "execute_result"
    }
   ],
   "source": [
    "num + 20"
   ]
  },
  {
   "cell_type": "code",
   "execution_count": 74,
   "id": "90927631-69b3-47be-9fdd-966de6deb7d8",
   "metadata": {},
   "outputs": [
    {
     "data": {
      "text/plain": [
       "10"
      ]
     },
     "execution_count": 74,
     "metadata": {},
     "output_type": "execute_result"
    }
   ],
   "source": [
    "num - 10"
   ]
  },
  {
   "cell_type": "code",
   "execution_count": 75,
   "id": "e56bf0d0-5f81-4519-a7d6-6ec79c6dda55",
   "metadata": {},
   "outputs": [
    {
     "data": {
      "text/plain": [
       "40"
      ]
     },
     "execution_count": 75,
     "metadata": {},
     "output_type": "execute_result"
    }
   ],
   "source": [
    "num * 2"
   ]
  },
  {
   "cell_type": "code",
   "execution_count": 76,
   "id": "54f8bbf3-a9b7-4157-87e3-b577df787251",
   "metadata": {},
   "outputs": [
    {
     "data": {
      "text/plain": [
       "10.0"
      ]
     },
     "execution_count": 76,
     "metadata": {},
     "output_type": "execute_result"
    }
   ],
   "source": [
    "num / 2"
   ]
  },
  {
   "cell_type": "code",
   "execution_count": 77,
   "id": "2d18dc53-db36-4d83-80ad-1e0955d0049f",
   "metadata": {},
   "outputs": [
    {
     "data": {
      "text/plain": [
       "6"
      ]
     },
     "execution_count": 77,
     "metadata": {},
     "output_type": "execute_result"
    }
   ],
   "source": [
    "num // 3"
   ]
  },
  {
   "cell_type": "code",
   "execution_count": 78,
   "id": "6aa764ee-621c-48ee-b8c5-06e46d33b0f8",
   "metadata": {},
   "outputs": [
    {
     "data": {
      "text/plain": [
       "160000"
      ]
     },
     "execution_count": 78,
     "metadata": {},
     "output_type": "execute_result"
    }
   ],
   "source": [
    "num ** 4"
   ]
  },
  {
   "cell_type": "code",
   "execution_count": 79,
   "id": "12499ce7-7391-4511-9349-29c1d860ebf2",
   "metadata": {},
   "outputs": [
    {
     "data": {
      "text/plain": [
       "0"
      ]
     },
     "execution_count": 79,
     "metadata": {},
     "output_type": "execute_result"
    }
   ],
   "source": [
    "num % 2"
   ]
  },
  {
   "cell_type": "code",
   "execution_count": 80,
   "id": "d22d8164-5d81-44e7-a51b-0d3e1ed54b0b",
   "metadata": {},
   "outputs": [],
   "source": [
    "#Relational operator"
   ]
  },
  {
   "cell_type": "code",
   "execution_count": 81,
   "id": "171aa187-045f-46f6-a492-1e4bafc6fd75",
   "metadata": {},
   "outputs": [
    {
     "data": {
      "text/plain": [
       "False"
      ]
     },
     "execution_count": 81,
     "metadata": {},
     "output_type": "execute_result"
    }
   ],
   "source": [
    "num > 30"
   ]
  },
  {
   "cell_type": "code",
   "execution_count": 82,
   "id": "3df88a3c-bae2-441c-9586-1334e01b5c7d",
   "metadata": {},
   "outputs": [
    {
     "data": {
      "text/plain": [
       "True"
      ]
     },
     "execution_count": 82,
     "metadata": {},
     "output_type": "execute_result"
    }
   ],
   "source": [
    "num < 30"
   ]
  },
  {
   "cell_type": "code",
   "execution_count": 83,
   "id": "2445b599-44f8-40c5-9367-0493793e43ac",
   "metadata": {},
   "outputs": [
    {
     "data": {
      "text/plain": [
       "True"
      ]
     },
     "execution_count": 83,
     "metadata": {},
     "output_type": "execute_result"
    }
   ],
   "source": [
    "num >= 20"
   ]
  },
  {
   "cell_type": "code",
   "execution_count": 84,
   "id": "7b3d8e17-fe5a-40e1-9a75-dba7ba303ca2",
   "metadata": {},
   "outputs": [
    {
     "data": {
      "text/plain": [
       "True"
      ]
     },
     "execution_count": 84,
     "metadata": {},
     "output_type": "execute_result"
    }
   ],
   "source": [
    "num <= 30"
   ]
  },
  {
   "cell_type": "code",
   "execution_count": 85,
   "id": "531e22e5-325f-4d85-b54c-cfd41226ce36",
   "metadata": {},
   "outputs": [
    {
     "data": {
      "text/plain": [
       "True"
      ]
     },
     "execution_count": 85,
     "metadata": {},
     "output_type": "execute_result"
    }
   ],
   "source": [
    "num == 20"
   ]
  },
  {
   "cell_type": "code",
   "execution_count": 86,
   "id": "fbbbb181-887c-4a78-8eef-c85002f40b8e",
   "metadata": {},
   "outputs": [
    {
     "data": {
      "text/plain": [
       "False"
      ]
     },
     "execution_count": 86,
     "metadata": {},
     "output_type": "execute_result"
    }
   ],
   "source": [
    "num != 20"
   ]
  },
  {
   "cell_type": "code",
   "execution_count": 87,
   "id": "b5715169-1c21-4011-a7a3-ce55dad804ce",
   "metadata": {},
   "outputs": [],
   "source": [
    "#Assignment operators"
   ]
  },
  {
   "cell_type": "code",
   "execution_count": 89,
   "id": "44cd151b-7987-4270-b864-6c7679d7a5df",
   "metadata": {},
   "outputs": [],
   "source": [
    "'''nn1 = 1\n",
    "nn2 += nn1\n",
    "nn3 -= nn1''';"
   ]
  },
  {
   "cell_type": "code",
   "execution_count": 90,
   "id": "7afc82d3-faec-4fe2-86a1-f7ce782e3f46",
   "metadata": {},
   "outputs": [],
   "source": [
    "#Membership selection operator"
   ]
  },
  {
   "cell_type": "code",
   "execution_count": 91,
   "id": "7b2ad75f-ce56-4f6d-9757-4b85e2778e6b",
   "metadata": {},
   "outputs": [
    {
     "data": {
      "text/plain": [
       "False"
      ]
     },
     "execution_count": 91,
     "metadata": {},
     "output_type": "execute_result"
    }
   ],
   "source": [
    "'i' in stris"
   ]
  },
  {
   "cell_type": "code",
   "execution_count": 92,
   "id": "0c738792-2d67-4ff9-a7f1-58d0d186583f",
   "metadata": {},
   "outputs": [
    {
     "data": {
      "text/plain": [
       "True"
      ]
     },
     "execution_count": 92,
     "metadata": {},
     "output_type": "execute_result"
    }
   ],
   "source": [
    "'i' not in stris"
   ]
  },
  {
   "cell_type": "code",
   "execution_count": 93,
   "id": "adadbdbb-daa3-42bc-84ac-98f8e5101e54",
   "metadata": {},
   "outputs": [],
   "source": [
    "#type casting"
   ]
  },
  {
   "cell_type": "code",
   "execution_count": 94,
   "id": "281a674f-2b1d-4e7f-9e38-75b43577d0d3",
   "metadata": {},
   "outputs": [],
   "source": [
    "nn1 = 3\n",
    "nn2 = 3.2"
   ]
  },
  {
   "cell_type": "code",
   "execution_count": 95,
   "id": "841a094c-de9f-4041-a2a7-37183bb4f1b9",
   "metadata": {},
   "outputs": [
    {
     "data": {
      "text/plain": [
       "6.2"
      ]
     },
     "execution_count": 95,
     "metadata": {},
     "output_type": "execute_result"
    }
   ],
   "source": [
    "nn1 + nn2"
   ]
  },
  {
   "cell_type": "code",
   "execution_count": 96,
   "id": "ee260093-daa4-403a-9fd8-3bf748df09b1",
   "metadata": {},
   "outputs": [
    {
     "data": {
      "text/plain": [
       "6"
      ]
     },
     "execution_count": 96,
     "metadata": {},
     "output_type": "execute_result"
    }
   ],
   "source": [
    "nn1 + int(nn2)"
   ]
  },
  {
   "cell_type": "code",
   "execution_count": 97,
   "id": "532423d2-2751-46f4-ad02-a795140a451c",
   "metadata": {},
   "outputs": [],
   "source": [
    "strg = 'aku' "
   ]
  },
  {
   "cell_type": "code",
   "execution_count": 98,
   "id": "ba79b0ea-5c21-4cc3-9e3e-3f45b6f05af6",
   "metadata": {},
   "outputs": [
    {
     "data": {
      "text/plain": [
       "'aku3'"
      ]
     },
     "execution_count": 98,
     "metadata": {},
     "output_type": "execute_result"
    }
   ],
   "source": [
    "strg + str(nn1)"
   ]
  },
  {
   "cell_type": "code",
   "execution_count": 99,
   "id": "39b14b64-cbb1-4374-8c90-3472b5233d48",
   "metadata": {},
   "outputs": [],
   "source": [
    "#taking user input"
   ]
  },
  {
   "cell_type": "code",
   "execution_count": 101,
   "id": "a1c6f452-a914-4214-8d83-f19ed5128c86",
   "metadata": {},
   "outputs": [],
   "source": [
    "# take 2 nums as input and add them"
   ]
  },
  {
   "cell_type": "code",
   "execution_count": 103,
   "id": "0d6d2d02-1f1e-4641-8400-fc9abf6058da",
   "metadata": {},
   "outputs": [
    {
     "name": "stdin",
     "output_type": "stream",
     "text": [
      "Enter 1st number:  3\n",
      "Enter 2nd number:  4\n"
     ]
    },
    {
     "data": {
      "text/plain": [
       "7"
      ]
     },
     "execution_count": 103,
     "metadata": {},
     "output_type": "execute_result"
    }
   ],
   "source": [
    "num1 = int(input('Enter 1st number: '))\n",
    "num2 = int(input('Enter 2nd number: '))\n",
    "\n",
    "add = num1 + num2\n",
    "add"
   ]
  },
  {
   "cell_type": "code",
   "execution_count": 104,
   "id": "67840ca8-7e6d-4481-9ada-c2dc8637f9df",
   "metadata": {},
   "outputs": [],
   "source": [
    "# wap to repeat a string by n num of times take string and n as inputs first"
   ]
  },
  {
   "cell_type": "code",
   "execution_count": 106,
   "id": "970f0e4f-6727-4025-85fa-7dd435229dee",
   "metadata": {},
   "outputs": [
    {
     "name": "stdin",
     "output_type": "stream",
     "text": [
      "Enter string:  hello\n",
      "Enter no of iterations:  3\n"
     ]
    },
    {
     "name": "stdout",
     "output_type": "stream",
     "text": [
      "hellohellohello\n"
     ]
    }
   ],
   "source": [
    "i1 = input('Enter string: ')\n",
    "i2 = int(input('Enter no of iterations: '))\n",
    "\n",
    "print(i1 * i2)"
   ]
  },
  {
   "cell_type": "code",
   "execution_count": 107,
   "id": "8fb73c5a-a463-4a6a-aa1b-5ed3cae10ca9",
   "metadata": {},
   "outputs": [
    {
     "name": "stdin",
     "output_type": "stream",
     "text": [
      "Enter base:  4\n",
      "Enter height:  7\n"
     ]
    },
    {
     "name": "stdout",
     "output_type": "stream",
     "text": [
      "Area is:  14.0\n"
     ]
    }
   ],
   "source": [
    "# take height, base as ip and find area of a triangle\n",
    "\n",
    "base = int(input('Enter base: '))\n",
    "height = int(input('Enter height: '))\n",
    "\n",
    "print('Area is: ', (0.5*base*height))"
   ]
  },
  {
   "cell_type": "code",
   "execution_count": 108,
   "id": "44a5feeb-40b2-47c1-9b2e-a2751f88af12",
   "metadata": {},
   "outputs": [],
   "source": [
    "#take seconds as ip and give op in format pf hrs:mins:secs"
   ]
  },
  {
   "cell_type": "code",
   "execution_count": 109,
   "id": "15f641ac-be8d-4604-9f04-d40e48ad3c2e",
   "metadata": {},
   "outputs": [
    {
     "name": "stdin",
     "output_type": "stream",
     "text": [
      "Enter no of seconds:  3702\n"
     ]
    },
    {
     "name": "stdout",
     "output_type": "stream",
     "text": [
      "The conversion is-> \n",
      " 1 : 1 : 42\n"
     ]
    }
   ],
   "source": [
    "sec = int(input('Enter no of seconds: '))\n",
    "\n",
    "hrs = sec // 3600\n",
    "\n",
    "rem_sec = sec % 3600\n",
    "\n",
    "min = rem_sec // 60\n",
    "\n",
    "secs = rem_sec % 60\n",
    "\n",
    "print('The conversion is-> \\n', hrs,':',min,':',secs)"
   ]
  },
  {
   "cell_type": "code",
   "execution_count": null,
   "id": "d90d22ed-97c4-497f-b142-2fc441ca5a6c",
   "metadata": {},
   "outputs": [],
   "source": []
  }
 ],
 "metadata": {
  "kernelspec": {
   "display_name": "Python 3 (ipykernel)",
   "language": "python",
   "name": "python3"
  },
  "language_info": {
   "codemirror_mode": {
    "name": "ipython",
    "version": 3
   },
   "file_extension": ".py",
   "mimetype": "text/x-python",
   "name": "python",
   "nbconvert_exporter": "python",
   "pygments_lexer": "ipython3",
   "version": "3.11.7"
  }
 },
 "nbformat": 4,
 "nbformat_minor": 5
}
